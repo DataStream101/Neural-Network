{
 "cells": [
  {
   "cell_type": "markdown",
   "metadata": {},
   "source": [
    "Since we consider a single perceptron, it is defined by 2 hyperparameters:\n",
    " - number of epochs\n",
    " - learning rate"
   ]
  },
  {
   "cell_type": "markdown",
   "metadata": {},
   "source": [
    "## Setting Epoch Parameter"
   ]
  },
  {
   "attachments": {},
   "cell_type": "markdown",
   "metadata": {},
   "source": [
    "The Epoch parameter allows to control the number of iterations through the entire data set used to train the network.\n",
    "\n",
    "Let see some different scenarios."
   ]
  },
  {
   "cell_type": "code",
   "execution_count": 1,
   "metadata": {},
   "outputs": [],
   "source": [
    "# Importing matplotlib for data visualization\n",
    "import matplotlib.pyplot as plt"
   ]
  },
  {
   "cell_type": "markdown",
   "metadata": {},
   "source": [
    "### epochs = 5"
   ]
  },
  {
   "cell_type": "code",
   "execution_count": 52,
   "metadata": {},
   "outputs": [],
   "source": [
    "# Model's parameter initialization\n",
    "W_5ep = [0.1,0.7]\n",
    "bias_5ep = 0.5\n",
    "# Model's hyperparameters\n",
    "learn_rate_5ep = 0.01\n",
    "epochs_5 = 5\n",
    "\n",
    "# Training Set\n",
    "\n",
    "inputs_5ep = [[1,1],[-1,1],[1,-1],[-1,-1]]\n",
    "outputs_5ep = [1,-1,-1,-1]\n",
    "\n",
    "# defining a list storing total error after each epoch (for plotting error as a function on epoch numbers)\n",
    "total_error_5ep = 0\n",
    "total_error_epoch_5ep = []"
   ]
  },
  {
   "cell_type": "code",
   "execution_count": 53,
   "metadata": {},
   "outputs": [],
   "source": [
    "# Training Function\n",
    "def and_perceptron():\n",
    "    global W_5ep\n",
    "    global bias_5ep\n",
    "    global learn_rate_5ep\n",
    "    global epochs_5\n",
    "    global inputs_5ep\n",
    "    global outputs_5ep\n",
    "    global total_error_5ep\n",
    "    global total_error_epoch_ep\n",
    "    \n",
    "    epoch = 0\n",
    "   \n",
    "    while epoch < epochs_5:\n",
    "        print('\\x1b[1;34m'+'Epoch:'+'\\x1b[0m', epoch+1)\n",
    "        epoch += 1\n",
    "        example_nb = 0\n",
    "        total_error_5ep = 0\n",
    "        while example_nb < len(inputs_5ep):\n",
    "            print(example_nb + 1, \"° training example: \", inputs_5ep[example_nb])\n",
    "\n",
    "            observation_nb = 0\n",
    "            integration_func = 0\n",
    "            while observation_nb < len(inputs_5ep[example_nb]):\n",
    "                integration_func += W_5ep[observation_nb] * inputs_5ep[example_nb][observation_nb]\n",
    "                observation_nb += 1\n",
    "\n",
    "            if integration_func >= bias_5ep:\n",
    "                predicted_output = 1\n",
    "            else:\n",
    "                predicted_output = -1\n",
    "\n",
    "            error = outputs_5ep[example_nb] - predicted_output\n",
    "            print(\"Error=\", error)\n",
    "            \n",
    "            if error != 0:\n",
    "                observation_nb = 0\n",
    "                while observation_nb < len(inputs_5ep[example_nb]):\n",
    "                    W_5ep[observation_nb] =  W_5ep[observation_nb] + learn_rate_5ep*error*inputs_5ep[example_nb][observation_nb]\n",
    "                    print(\"W \", observation_nb +1, \": \", W_5ep[observation_nb])\n",
    "                    observation_nb += 1\n",
    "                bias_5ep = bias_5ep + learn_rate_5ep*error\n",
    "            example_nb += 1\n",
    "            \n",
    "            total_error_5ep += error\n",
    "        total_error_epoch_5ep.append(total_error_5ep)\n",
    "        print('\\x1b[1;31m'+'Total Error:'+'\\x1b[0m', total_error_5ep)\n",
    "    \n",
    "    if total_error_5ep == 0:\n",
    "         print('\\x1b[4;31m'+'Training completed'+'\\x1b[0m')\n",
    "    \n",
    "    print(\"W: \", W_5ep, \"bias: \", bias_5ep)\n",
    "    "
   ]
  },
  {
   "cell_type": "code",
   "execution_count": 54,
   "metadata": {},
   "outputs": [
    {
     "name": "stdout",
     "output_type": "stream",
     "text": [
      "\u001b[1;34mEpoch:\u001b[0m 1\n",
      "1 ° training example:  [1, 1]\n",
      "Error= 0\n",
      "2 ° training example:  [-1, 1]\n",
      "Error= -2\n",
      "W  1 :  0.12000000000000001\n",
      "W  2 :  0.6799999999999999\n",
      "3 ° training example:  [1, -1]\n",
      "Error= 0\n",
      "4 ° training example:  [-1, -1]\n",
      "Error= 0\n",
      "\u001b[1;31mTotal Error:\u001b[0m -2\n",
      "\u001b[1;34mEpoch:\u001b[0m 2\n",
      "1 ° training example:  [1, 1]\n",
      "Error= 0\n",
      "2 ° training example:  [-1, 1]\n",
      "Error= -2\n",
      "W  1 :  0.14\n",
      "W  2 :  0.6599999999999999\n",
      "3 ° training example:  [1, -1]\n",
      "Error= 0\n",
      "4 ° training example:  [-1, -1]\n",
      "Error= 0\n",
      "\u001b[1;31mTotal Error:\u001b[0m -2\n",
      "\u001b[1;34mEpoch:\u001b[0m 3\n",
      "1 ° training example:  [1, 1]\n",
      "Error= 0\n",
      "2 ° training example:  [-1, 1]\n",
      "Error= -2\n",
      "W  1 :  0.16\n",
      "W  2 :  0.6399999999999999\n",
      "3 ° training example:  [1, -1]\n",
      "Error= 0\n",
      "4 ° training example:  [-1, -1]\n",
      "Error= 0\n",
      "\u001b[1;31mTotal Error:\u001b[0m -2\n",
      "\u001b[1;34mEpoch:\u001b[0m 4\n",
      "1 ° training example:  [1, 1]\n",
      "Error= 0\n",
      "2 ° training example:  [-1, 1]\n",
      "Error= -2\n",
      "W  1 :  0.18\n",
      "W  2 :  0.6199999999999999\n",
      "3 ° training example:  [1, -1]\n",
      "Error= 0\n",
      "4 ° training example:  [-1, -1]\n",
      "Error= 0\n",
      "\u001b[1;31mTotal Error:\u001b[0m -2\n",
      "\u001b[1;34mEpoch:\u001b[0m 5\n",
      "1 ° training example:  [1, 1]\n",
      "Error= 0\n",
      "2 ° training example:  [-1, 1]\n",
      "Error= -2\n",
      "W  1 :  0.19999999999999998\n",
      "W  2 :  0.5999999999999999\n",
      "3 ° training example:  [1, -1]\n",
      "Error= 0\n",
      "4 ° training example:  [-1, -1]\n",
      "Error= 0\n",
      "\u001b[1;31mTotal Error:\u001b[0m -2\n",
      "W:  [0.19999999999999998, 0.5999999999999999] bias:  0.3999999999999999\n"
     ]
    }
   ],
   "source": [
    "# Training the model\n",
    "and_perceptron()"
   ]
  },
  {
   "cell_type": "code",
   "execution_count": 82,
   "metadata": {},
   "outputs": [
    {
     "data": {
      "image/png": "[encoded data removed]",
      "text/plain": [
       "<Figure size 432x288 with 1 Axes>"
      ]
     },
     "metadata": {
      "needs_background": "light"
     },
     "output_type": "display_data"
    }
   ],
   "source": [
    "# Plot total error\n",
    "\n",
    "y_error_5 = [total_error_epoch_5ep[i] for i in range(len(total_error_epoch_5ep))]\n",
    "\n",
    "x_epochs_5 = [i+1 for i in range(epochs_5)]\n",
    "\n",
    "fontdict={'fontsize': 18,\n",
    "          'weight' : 'bold',\n",
    "         'horizontalalignment': 'center'}\n",
    "fontdictx={'fontsize': 13,\n",
    "          'weight' : 'bold',\n",
    "          'horizontalalignment': 'center'}\n",
    "fontdicty={'fontsize': 13,\n",
    "          'weight' : 'bold',\n",
    "          'verticalalignment': 'baseline',\n",
    "          'horizontalalignment': 'center'}\n",
    "plt.plot(x_epochs_5,y_error_5)\n",
    "plt.xlabel(\"Epochs\",fontdictx)\n",
    "plt.ylabel(\"Total Error\", fontdicty);\n",
    "plt.title('Error as a function of Epochs (5 epochs)', fontdict=fontdict);\n"
   ]
  },
  {
   "cell_type": "code",
   "execution_count": 58,
   "metadata": {},
   "outputs": [],
   "source": [
    "# Test\n",
    "def test(example_nb):\n",
    "    global W_5ep\n",
    "    global bias_5ep\n",
    "    global inputs_5ep\n",
    "    observation_nb = 0\n",
    "    integration_func = 0\n",
    "    while observation_nb < len(inputs_5ep[example_nb]):\n",
    "        integration_func += (W_5ep[observation_nb] * inputs_5ep[example_nb][observation_nb])\n",
    "        observation_nb += 1\n",
    "    print(\"\\n\", example_nb + 1, \"° test example: \", inputs_5ep[example_nb])    \n",
    "    if integration_func >= bias_5ep:\n",
    "        print(\"Output is 1\")\n",
    "    else:\n",
    "        print (\"Output is -1\")\n"
   ]
  },
  {
   "cell_type": "code",
   "execution_count": 59,
   "metadata": {},
   "outputs": [
    {
     "name": "stdout",
     "output_type": "stream",
     "text": [
      "\n",
      " 1 ° test example:  [1, 1]\n",
      "Output is 1\n",
      "\n",
      " 2 ° test example:  [-1, 1]\n",
      "Output is 1\n",
      "\n",
      " 3 ° test example:  [1, -1]\n",
      "Output is -1\n",
      "\n",
      " 4 ° test example:  [-1, -1]\n",
      "Output is -1\n"
     ]
    }
   ],
   "source": [
    "for i in range(len(inputs_5ep)):\n",
    "    test(i)"
   ]
  },
  {
   "cell_type": "markdown",
   "metadata": {},
   "source": [
    "<b>Result:"
   ]
  },
  {
   "cell_type": "markdown",
   "metadata": {},
   "source": [
    "> 5 epochs are not enough to training the model. It is not able to make an accurate classification"
   ]
  },
  {
   "cell_type": "markdown",
   "metadata": {},
   "source": [
    "### epochs = 10"
   ]
  },
  {
   "cell_type": "code",
   "execution_count": 60,
   "metadata": {},
   "outputs": [],
   "source": [
    "# Model's parameter initialization\n",
    "W_10ep = [0.1,0.7]\n",
    "bias_10ep = 0.5\n",
    "# Model's hyperparameters\n",
    "learn_rate_10ep = 0.01\n",
    "epochs_10 = 10\n",
    "\n",
    "# Training Set\n",
    "\n",
    "inputs_10ep = [[1,1],[-1,1],[1,-1],[-1,-1]]\n",
    "outputs_10ep = [1,-1,-1,-1]\n",
    "\n",
    "\n",
    "total_error_10ep = 0\n",
    "total_error_epoch_10ep = []"
   ]
  },
  {
   "cell_type": "code",
   "execution_count": 61,
   "metadata": {},
   "outputs": [],
   "source": [
    "# Training Function\n",
    "def and_perceptron():\n",
    "    global W_10ep\n",
    "    global bias_10ep\n",
    "    global learn_rate_10ep\n",
    "    global epochs_10\n",
    "    global inputs_10ep\n",
    "    global outputs_10ep\n",
    "    global total_error_10ep\n",
    "    global total_error_epoch_10ep \n",
    "    \n",
    "    epoch = 0\n",
    "   \n",
    "    while epoch < epochs_10:\n",
    "        print('\\x1b[1;34m'+'Epoch:'+'\\x1b[0m', epoch+1)\n",
    "        epoch += 1\n",
    "        example_nb = 0\n",
    "        total_error_10ep = 0\n",
    "        while example_nb < len(inputs_10ep):\n",
    "            print(example_nb + 1, \"° training example: \", inputs_10ep[example_nb])\n",
    "\n",
    "            observation_nb = 0\n",
    "            integration_func = 0\n",
    "            while observation_nb < len(inputs_10ep[example_nb]):\n",
    "                integration_func += W_10ep[observation_nb] * inputs_10ep[example_nb][observation_nb]\n",
    "                observation_nb += 1\n",
    "\n",
    "            if integration_func >= bias_10ep:\n",
    "                predicted_output = 1\n",
    "            else:\n",
    "                predicted_output = -1\n",
    "\n",
    "            error = outputs_10ep[example_nb] - predicted_output\n",
    "            print(\"Error=\", error)\n",
    "            \n",
    "            if error != 0:\n",
    "                observation_nb = 0\n",
    "                while observation_nb < len(inputs_10ep[example_nb]):\n",
    "                    W_10ep[observation_nb] =  W_10ep[observation_nb] + learn_rate_10ep*error*inputs_10ep[example_nb][observation_nb]\n",
    "                    print(\"W \", observation_nb +1, \": \", W_10ep[observation_nb])\n",
    "                    observation_nb += 1\n",
    "                bias_10ep = bias_10ep + learn_rate_10ep*error\n",
    "            example_nb += 1\n",
    "            \n",
    "            total_error_10ep += error\n",
    "        total_error_epoch_10ep.append(total_error_10ep)\n",
    "        print('\\x1b[1;31m'+'Total Error:'+'\\x1b[0m', total_error_10ep)\n",
    "       \n",
    "        if total_error_10ep == 0:\n",
    "            print('\\x1b[4;31m'+'Training completed'+'\\x1b[0m')\n",
    "    \n",
    "    print(\"W: \", W_10ep, \"bias: \", bias_10ep)\n",
    "    "
   ]
  },
  {
   "cell_type": "code",
   "execution_count": 62,
   "metadata": {
    "scrolled": false
   },
   "outputs": [
    {
     "name": "stdout",
     "output_type": "stream",
     "text": [
      "\u001b[1;34mEpoch:\u001b[0m 1\n",
      "1 ° training example:  [1, 1]\n",
      "Error= 0\n",
      "2 ° training example:  [-1, 1]\n",
      "Error= -2\n",
      "W  1 :  0.12000000000000001\n",
      "W  2 :  0.6799999999999999\n",
      "3 ° training example:  [1, -1]\n",
      "Error= 0\n",
      "4 ° training example:  [-1, -1]\n",
      "Error= 0\n",
      "\u001b[1;31mTotal Error:\u001b[0m -2\n",
      "\u001b[1;34mEpoch:\u001b[0m 2\n",
      "1 ° training example:  [1, 1]\n",
      "Error= 0\n",
      "2 ° training example:  [-1, 1]\n",
      "Error= -2\n",
      "W  1 :  0.14\n",
      "W  2 :  0.6599999999999999\n",
      "3 ° training example:  [1, -1]\n",
      "Error= 0\n",
      "4 ° training example:  [-1, -1]\n",
      "Error= 0\n",
      "\u001b[1;31mTotal Error:\u001b[0m -2\n",
      "\u001b[1;34mEpoch:\u001b[0m 3\n",
      "1 ° training example:  [1, 1]\n",
      "Error= 0\n",
      "2 ° training example:  [-1, 1]\n",
      "Error= -2\n",
      "W  1 :  0.16\n",
      "W  2 :  0.6399999999999999\n",
      "3 ° training example:  [1, -1]\n",
      "Error= 0\n",
      "4 ° training example:  [-1, -1]\n",
      "Error= 0\n",
      "\u001b[1;31mTotal Error:\u001b[0m -2\n",
      "\u001b[1;34mEpoch:\u001b[0m 4\n",
      "1 ° training example:  [1, 1]\n",
      "Error= 0\n",
      "2 ° training example:  [-1, 1]\n",
      "Error= -2\n",
      "W  1 :  0.18\n",
      "W  2 :  0.6199999999999999\n",
      "3 ° training example:  [1, -1]\n",
      "Error= 0\n",
      "4 ° training example:  [-1, -1]\n",
      "Error= 0\n",
      "\u001b[1;31mTotal Error:\u001b[0m -2\n",
      "\u001b[1;34mEpoch:\u001b[0m 5\n",
      "1 ° training example:  [1, 1]\n",
      "Error= 0\n",
      "2 ° training example:  [-1, 1]\n",
      "Error= -2\n",
      "W  1 :  0.19999999999999998\n",
      "W  2 :  0.5999999999999999\n",
      "3 ° training example:  [1, -1]\n",
      "Error= 0\n",
      "4 ° training example:  [-1, -1]\n",
      "Error= 0\n",
      "\u001b[1;31mTotal Error:\u001b[0m -2\n",
      "\u001b[1;34mEpoch:\u001b[0m 6\n",
      "1 ° training example:  [1, 1]\n",
      "Error= 0\n",
      "2 ° training example:  [-1, 1]\n",
      "Error= -2\n",
      "W  1 :  0.21999999999999997\n",
      "W  2 :  0.5799999999999998\n",
      "3 ° training example:  [1, -1]\n",
      "Error= 0\n",
      "4 ° training example:  [-1, -1]\n",
      "Error= 0\n",
      "\u001b[1;31mTotal Error:\u001b[0m -2\n",
      "\u001b[1;34mEpoch:\u001b[0m 7\n",
      "1 ° training example:  [1, 1]\n",
      "Error= 0\n",
      "2 ° training example:  [-1, 1]\n",
      "Error= 0\n",
      "3 ° training example:  [1, -1]\n",
      "Error= 0\n",
      "4 ° training example:  [-1, -1]\n",
      "Error= 0\n",
      "\u001b[1;31mTotal Error:\u001b[0m 0\n",
      "\u001b[4;31mTraining completed\u001b[0m\n",
      "\u001b[1;34mEpoch:\u001b[0m 8\n",
      "1 ° training example:  [1, 1]\n",
      "Error= 0\n",
      "2 ° training example:  [-1, 1]\n",
      "Error= 0\n",
      "3 ° training example:  [1, -1]\n",
      "Error= 0\n",
      "4 ° training example:  [-1, -1]\n",
      "Error= 0\n",
      "\u001b[1;31mTotal Error:\u001b[0m 0\n",
      "\u001b[4;31mTraining completed\u001b[0m\n",
      "\u001b[1;34mEpoch:\u001b[0m 9\n",
      "1 ° training example:  [1, 1]\n",
      "Error= 0\n",
      "2 ° training example:  [-1, 1]\n",
      "Error= 0\n",
      "3 ° training example:  [1, -1]\n",
      "Error= 0\n",
      "4 ° training example:  [-1, -1]\n",
      "Error= 0\n",
      "\u001b[1;31mTotal Error:\u001b[0m 0\n",
      "\u001b[4;31mTraining completed\u001b[0m\n",
      "\u001b[1;34mEpoch:\u001b[0m 10\n",
      "1 ° training example:  [1, 1]\n",
      "Error= 0\n",
      "2 ° training example:  [-1, 1]\n",
      "Error= 0\n",
      "3 ° training example:  [1, -1]\n",
      "Error= 0\n",
      "4 ° training example:  [-1, -1]\n",
      "Error= 0\n",
      "\u001b[1;31mTotal Error:\u001b[0m 0\n",
      "\u001b[4;31mTraining completed\u001b[0m\n",
      "W:  [0.21999999999999997, 0.5799999999999998] bias:  0.3799999999999999\n"
     ]
    }
   ],
   "source": [
    "# Training model\n",
    "and_perceptron()"
   ]
  },
  {
   "cell_type": "code",
   "execution_count": 85,
   "metadata": {},
   "outputs": [
    {
     "data": {
      "image/png": "[encoded data removed]",
      "text/plain": [
       "<Figure size 432x288 with 1 Axes>"
      ]
     },
     "metadata": {
      "needs_background": "light"
     },
     "output_type": "display_data"
    }
   ],
   "source": [
    "# Plot total error\n",
    "y_error_10 = [total_error_epoch_10ep[i] for i in range(len(total_error_epoch_10ep))]\n",
    "\n",
    "x_epochs_10 = [i+1 for i in range(epochs_10)]\n",
    "\n",
    "fontdict={'fontsize': 18,\n",
    "          'weight' : 'bold',\n",
    "         'horizontalalignment': 'center'}\n",
    "fontdictx={'fontsize': 13,\n",
    "          'weight' : 'bold',\n",
    "          'horizontalalignment': 'center'}\n",
    "fontdicty={'fontsize': 13,\n",
    "          'weight' : 'bold',\n",
    "          'verticalalignment': 'baseline',\n",
    "          'horizontalalignment': 'center'}\n",
    "plt.plot(x_epochs_10,y_error_10)\n",
    "plt.xlabel(\"Epochs\",fontdictx)\n",
    "plt.ylabel(\"Total Error\", fontdicty);\n",
    "plt.title('Error as a function of Epochs (10 epochs)', fontdict=fontdict);\n"
   ]
  },
  {
   "cell_type": "code",
   "execution_count": 66,
   "metadata": {},
   "outputs": [],
   "source": [
    "# Test\n",
    "def test(example_nb):\n",
    "    global W_10ep\n",
    "    global bias_10ep\n",
    "    global inputs_10ep\n",
    "    observation_nb = 0\n",
    "    integration_func = 0\n",
    "    while observation_nb < len(inputs_10ep[example_nb]):\n",
    "        integration_func += (W_10ep[observation_nb] * inputs_10ep[example_nb][observation_nb])\n",
    "        observation_nb += 1\n",
    "    print(\"\\n\", example_nb + 1, \"° test example: \", inputs_10ep[example_nb])    \n",
    "    if integration_func >= bias_10ep:\n",
    "        print(\"Output is 1\")\n",
    "    else:\n",
    "        print (\"Output is -1\")\n"
   ]
  },
  {
   "cell_type": "code",
   "execution_count": 67,
   "metadata": {},
   "outputs": [
    {
     "name": "stdout",
     "output_type": "stream",
     "text": [
      "\n",
      " 1 ° test example:  [1, 1]\n",
      "Output is 1\n",
      "\n",
      " 2 ° test example:  [-1, 1]\n",
      "Output is -1\n",
      "\n",
      " 3 ° test example:  [1, -1]\n",
      "Output is -1\n",
      "\n",
      " 4 ° test example:  [-1, -1]\n",
      "Output is -1\n"
     ]
    }
   ],
   "source": [
    "for i in range(len(inputs_10ep)):\n",
    "    test(i)"
   ]
  },
  {
   "cell_type": "markdown",
   "metadata": {},
   "source": [
    "<b>Result :<b>"
   ]
  },
  {
   "attachments": {},
   "cell_type": "markdown",
   "metadata": {},
   "source": [
    "> 10 epochs are more than our model needs to operate the accurate classification.\n",
    "\n",
    "> As we can see from the plot, starting from the 6th epoch additional epochs do not cause a further decrease in total error.\n",
    "\n",
    "> Thus, we can set epochs to 6 in order to be sure that our model converges."
   ]
  },
  {
   "cell_type": "markdown",
   "metadata": {},
   "source": [
    "## Setting Learning Rate Parameter"
   ]
  },
  {
   "attachments": {},
   "cell_type": "markdown",
   "metadata": {},
   "source": [
    "The learning rate parameter affects how quickly the network is trained.\n",
    "\n",
    "We can set a a fixed number of epochs and vary the learning rate each time, by increasing it by a given amount.\n",
    "\n",
    "This way, we get a dynamic learning rate which may help the model to converge even if the number of epochs is little.\n",
    "\n",
    "Let see what happens to the model when it's trained for 5 epochs with a dynamic learning rate"
   ]
  },
  {
   "cell_type": "markdown",
   "metadata": {},
   "source": [
    "### epochs = 5 + Dynamic Learning Rate"
   ]
  },
  {
   "cell_type": "code",
   "execution_count": 68,
   "metadata": {},
   "outputs": [],
   "source": [
    "# Model's parameter initialization\n",
    "W = [0.1,0.7]\n",
    "bias = 0.5\n",
    "# Model's hyperparameters\n",
    "learn_rate = 0.01\n",
    "epochs = 5\n",
    "\n",
    "# Training Set\n",
    "\n",
    "inputs = [[1,1],[-1,1],[1,-1],[-1,-1]]\n",
    "outputs = [1,-1,-1,-1]\n",
    "\n",
    "# defining a list storing total error after each epoch (for plotting error as a function on epoch numbers)\n",
    "total_error = 0\n",
    "total_error_epoch = []"
   ]
  },
  {
   "cell_type": "code",
   "execution_count": 69,
   "metadata": {},
   "outputs": [],
   "source": [
    "# Training Function\n",
    "def and_perceptron():\n",
    "    global W\n",
    "    global bias\n",
    "    global learn_rate\n",
    "    global epochs\n",
    "    global inputs\n",
    "    global outputs\n",
    "    global total_error\n",
    "    \n",
    "    epoch = 0\n",
    "   \n",
    "    while epoch < epochs:\n",
    "        print('\\x1b[1;34m'+'Epoch: '+'\\x1b[0m',epoch+1)\n",
    "        epoch += 1\n",
    "        learn_rate += 0.005\n",
    "        example_nb = 0\n",
    "        total_error = 0\n",
    "        while example_nb < len(inputs):\n",
    "            print(example_nb + 1, \"° training example: \", inputs[example_nb])\n",
    "\n",
    "            observation_nb = 0\n",
    "            integration_func = 0\n",
    "            while observation_nb < len(inputs[example_nb]):\n",
    "                integration_func += W[observation_nb] * inputs[example_nb][observation_nb]\n",
    "                observation_nb += 1\n",
    "\n",
    "            if integration_func >= bias:\n",
    "                predicted_output = 1\n",
    "            else:\n",
    "                predicted_output = -1\n",
    "\n",
    "            error = outputs[example_nb] - predicted_output\n",
    "            print(\"Error=\", error)\n",
    "            \n",
    "            if error != 0:\n",
    "                observation_nb = 0\n",
    "                while observation_nb < len(inputs[example_nb]):\n",
    "                    W[observation_nb] =  W[observation_nb] + learn_rate*error*inputs[example_nb][observation_nb]\n",
    "                    print(\"W \", observation_nb +1, \": \", W[observation_nb])\n",
    "                    observation_nb += 1\n",
    "                bias = bias + learn_rate*error\n",
    "            example_nb += 1\n",
    "            \n",
    "            total_error += error\n",
    "        total_error_epoch.append(total_error)\n",
    "        \n",
    "        if total_error != 0:\n",
    "            print('\\x1b[4;34m'+'Updated Learning Rate: '+'\\x1b[0m',learn_rate)\n",
    "        \n",
    "        print('\\x1b[1;31m'+'Total Error: '+'\\x1b[0m',total_error)\n",
    "        \n",
    "        if total_error == 0:\n",
    "             print('\\x1b[4;31m'+'Training completed'+'\\x1b[0m')\n",
    "                \n",
    "    print(\"W: \", W, \"bias: \", bias)\n",
    "    "
   ]
  },
  {
   "cell_type": "code",
   "execution_count": 70,
   "metadata": {},
   "outputs": [
    {
     "name": "stdout",
     "output_type": "stream",
     "text": [
      "\u001b[1;34mEpoch: \u001b[0m 1\n",
      "1 ° training example:  [1, 1]\n",
      "Error= 0\n",
      "2 ° training example:  [-1, 1]\n",
      "Error= -2\n",
      "W  1 :  0.13\n",
      "W  2 :  0.6699999999999999\n",
      "3 ° training example:  [1, -1]\n",
      "Error= 0\n",
      "4 ° training example:  [-1, -1]\n",
      "Error= 0\n",
      "\u001b[4;34mUpdated Learning Rate: \u001b[0m 0.015\n",
      "\u001b[1;31mTotal Error: \u001b[0m -2\n",
      "\u001b[1;34mEpoch: \u001b[0m 2\n",
      "1 ° training example:  [1, 1]\n",
      "Error= 0\n",
      "2 ° training example:  [-1, 1]\n",
      "Error= -2\n",
      "W  1 :  0.17\n",
      "W  2 :  0.6299999999999999\n",
      "3 ° training example:  [1, -1]\n",
      "Error= 0\n",
      "4 ° training example:  [-1, -1]\n",
      "Error= 0\n",
      "\u001b[4;34mUpdated Learning Rate: \u001b[0m 0.02\n",
      "\u001b[1;31mTotal Error: \u001b[0m -2\n",
      "\u001b[1;34mEpoch: \u001b[0m 3\n",
      "1 ° training example:  [1, 1]\n",
      "Error= 0\n",
      "2 ° training example:  [-1, 1]\n",
      "Error= -2\n",
      "W  1 :  0.22000000000000003\n",
      "W  2 :  0.5799999999999998\n",
      "3 ° training example:  [1, -1]\n",
      "Error= 0\n",
      "4 ° training example:  [-1, -1]\n",
      "Error= 0\n",
      "\u001b[4;34mUpdated Learning Rate: \u001b[0m 0.025\n",
      "\u001b[1;31mTotal Error: \u001b[0m -2\n",
      "\u001b[1;34mEpoch: \u001b[0m 4\n",
      "1 ° training example:  [1, 1]\n",
      "Error= 0\n",
      "2 ° training example:  [-1, 1]\n",
      "Error= 0\n",
      "3 ° training example:  [1, -1]\n",
      "Error= 0\n",
      "4 ° training example:  [-1, -1]\n",
      "Error= 0\n",
      "\u001b[1;31mTotal Error: \u001b[0m 0\n",
      "\u001b[4;31mTraining completed\u001b[0m\n",
      "\u001b[1;34mEpoch: \u001b[0m 5\n",
      "1 ° training example:  [1, 1]\n",
      "Error= 0\n",
      "2 ° training example:  [-1, 1]\n",
      "Error= 0\n",
      "3 ° training example:  [1, -1]\n",
      "Error= 0\n",
      "4 ° training example:  [-1, -1]\n",
      "Error= 0\n",
      "\u001b[1;31mTotal Error: \u001b[0m 0\n",
      "\u001b[4;31mTraining completed\u001b[0m\n",
      "W:  [0.22000000000000003, 0.5799999999999998] bias:  0.38\n"
     ]
    }
   ],
   "source": [
    "# Training model\n",
    "and_perceptron()"
   ]
  },
  {
   "cell_type": "code",
   "execution_count": 86,
   "metadata": {},
   "outputs": [
    {
     "data": {
      "image/png": "[encoded data removed]",
      "text/plain": [
       "<Figure size 432x288 with 1 Axes>"
      ]
     },
     "metadata": {
      "needs_background": "light"
     },
     "output_type": "display_data"
    }
   ],
   "source": [
    "# Plot total error\n",
    "y_error = [total_error_epoch[i] for i in range(len(total_error_epoch))]\n",
    "\n",
    "x_epochs = [i+1 for i in range(epochs)]\n",
    "\n",
    "fontdict={'fontsize': 18,\n",
    "          'weight' : 'bold',\n",
    "         'horizontalalignment': 'center'}\n",
    "fontdictx={'fontsize': 13,\n",
    "          'weight' : 'bold',\n",
    "          'horizontalalignment': 'center'}\n",
    "fontdicty={'fontsize': 13,\n",
    "          'weight' : 'bold',\n",
    "          'verticalalignment': 'baseline',\n",
    "          'horizontalalignment': 'center'}\n",
    "plt.plot(x_epochs,y_error)\n",
    "plt.xlabel(\"Epochs\",fontdictx)\n",
    "plt.ylabel(\"Total Error\", fontdicty);\n",
    "plt.title('Error with dynamic Learning Rate', fontdict=fontdict);"
   ]
  },
  {
   "cell_type": "markdown",
   "metadata": {},
   "source": [
    "<b>Result:"
   ]
  },
  {
   "cell_type": "markdown",
   "metadata": {},
   "source": [
    "> As we can see from the plot, because the dynamic learning rate, the model converges once the 3th epoch is completed."
   ]
  }
 ],
 "metadata": {
  "kernelspec": {
   "display_name": "Python 3",
   "language": "python",
   "name": "python3"
  },
  "language_info": {
   "codemirror_mode": {
    "name": "ipython",
    "version": 3
   },
   "file_extension": ".py",
   "mimetype": "text/x-python",
   "name": "python",
   "nbconvert_exporter": "python",
   "pygments_lexer": "ipython3",
   "version": "3.7.3"
  }
 },
 "nbformat": 4,
 "nbformat_minor": 2
}
